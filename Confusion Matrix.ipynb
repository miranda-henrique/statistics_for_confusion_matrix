{
 "cells": [
  {
   "cell_type": "code",
   "execution_count": 1,
   "id": "09c4af4f",
   "metadata": {},
   "outputs": [],
   "source": [
    "# importing a 3-class dataset from sklearn's toy dataset\n",
    "from sklearn.datasets import load_wine\n",
    "\n",
    "from sklearn.model_selection import train_test_split\n",
    "from sklearn.svm import SVC\n",
    "from sklearn.metrics import confusion_matrix\n",
    "from sklearn.metrics import accuracy_score, precision_score, recall_score, f1_score\n",
    "from sklearn.metrics import classification_report\n",
    "\n",
    "import tensorflow as tf\n",
    "import numpy as np\n",
    "import pandas as pd\n",
    "import matplotlib.pyplot as plt\n",
    "import seaborn as sns"
   ]
  },
  {
   "cell_type": "code",
   "execution_count": 2,
   "id": "52b05ccb",
   "metadata": {},
   "outputs": [],
   "source": [
    "dataset = load_wine()\n",
    "X = dataset.data\n",
    "y = dataset.target"
   ]
  },
  {
   "cell_type": "code",
   "execution_count": 3,
   "id": "a9826c83",
   "metadata": {},
   "outputs": [
    {
     "data": {
      "text/plain": [
       "((178, 13), (178,))"
      ]
     },
     "execution_count": 3,
     "metadata": {},
     "output_type": "execute_result"
    }
   ],
   "source": [
    "X.shape, y.shape"
   ]
  },
  {
   "cell_type": "code",
   "execution_count": 4,
   "id": "3100c35e",
   "metadata": {},
   "outputs": [
    {
     "data": {
      "text/html": [
       "<style>#sk-container-id-1 {color: black;background-color: white;}#sk-container-id-1 pre{padding: 0;}#sk-container-id-1 div.sk-toggleable {background-color: white;}#sk-container-id-1 label.sk-toggleable__label {cursor: pointer;display: block;width: 100%;margin-bottom: 0;padding: 0.3em;box-sizing: border-box;text-align: center;}#sk-container-id-1 label.sk-toggleable__label-arrow:before {content: \"▸\";float: left;margin-right: 0.25em;color: #696969;}#sk-container-id-1 label.sk-toggleable__label-arrow:hover:before {color: black;}#sk-container-id-1 div.sk-estimator:hover label.sk-toggleable__label-arrow:before {color: black;}#sk-container-id-1 div.sk-toggleable__content {max-height: 0;max-width: 0;overflow: hidden;text-align: left;background-color: #f0f8ff;}#sk-container-id-1 div.sk-toggleable__content pre {margin: 0.2em;color: black;border-radius: 0.25em;background-color: #f0f8ff;}#sk-container-id-1 input.sk-toggleable__control:checked~div.sk-toggleable__content {max-height: 200px;max-width: 100%;overflow: auto;}#sk-container-id-1 input.sk-toggleable__control:checked~label.sk-toggleable__label-arrow:before {content: \"▾\";}#sk-container-id-1 div.sk-estimator input.sk-toggleable__control:checked~label.sk-toggleable__label {background-color: #d4ebff;}#sk-container-id-1 div.sk-label input.sk-toggleable__control:checked~label.sk-toggleable__label {background-color: #d4ebff;}#sk-container-id-1 input.sk-hidden--visually {border: 0;clip: rect(1px 1px 1px 1px);clip: rect(1px, 1px, 1px, 1px);height: 1px;margin: -1px;overflow: hidden;padding: 0;position: absolute;width: 1px;}#sk-container-id-1 div.sk-estimator {font-family: monospace;background-color: #f0f8ff;border: 1px dotted black;border-radius: 0.25em;box-sizing: border-box;margin-bottom: 0.5em;}#sk-container-id-1 div.sk-estimator:hover {background-color: #d4ebff;}#sk-container-id-1 div.sk-parallel-item::after {content: \"\";width: 100%;border-bottom: 1px solid gray;flex-grow: 1;}#sk-container-id-1 div.sk-label:hover label.sk-toggleable__label {background-color: #d4ebff;}#sk-container-id-1 div.sk-serial::before {content: \"\";position: absolute;border-left: 1px solid gray;box-sizing: border-box;top: 0;bottom: 0;left: 50%;z-index: 0;}#sk-container-id-1 div.sk-serial {display: flex;flex-direction: column;align-items: center;background-color: white;padding-right: 0.2em;padding-left: 0.2em;position: relative;}#sk-container-id-1 div.sk-item {position: relative;z-index: 1;}#sk-container-id-1 div.sk-parallel {display: flex;align-items: stretch;justify-content: center;background-color: white;position: relative;}#sk-container-id-1 div.sk-item::before, #sk-container-id-1 div.sk-parallel-item::before {content: \"\";position: absolute;border-left: 1px solid gray;box-sizing: border-box;top: 0;bottom: 0;left: 50%;z-index: -1;}#sk-container-id-1 div.sk-parallel-item {display: flex;flex-direction: column;z-index: 1;position: relative;background-color: white;}#sk-container-id-1 div.sk-parallel-item:first-child::after {align-self: flex-end;width: 50%;}#sk-container-id-1 div.sk-parallel-item:last-child::after {align-self: flex-start;width: 50%;}#sk-container-id-1 div.sk-parallel-item:only-child::after {width: 0;}#sk-container-id-1 div.sk-dashed-wrapped {border: 1px dashed gray;margin: 0 0.4em 0.5em 0.4em;box-sizing: border-box;padding-bottom: 0.4em;background-color: white;}#sk-container-id-1 div.sk-label label {font-family: monospace;font-weight: bold;display: inline-block;line-height: 1.2em;}#sk-container-id-1 div.sk-label-container {text-align: center;}#sk-container-id-1 div.sk-container {/* jupyter's `normalize.less` sets `[hidden] { display: none; }` but bootstrap.min.css set `[hidden] { display: none !important; }` so we also need the `!important` here to be able to override the default hidden behavior on the sphinx rendered scikit-learn.org. See: https://github.com/scikit-learn/scikit-learn/issues/21755 */display: inline-block !important;position: relative;}#sk-container-id-1 div.sk-text-repr-fallback {display: none;}</style><div id=\"sk-container-id-1\" class=\"sk-top-container\"><div class=\"sk-text-repr-fallback\"><pre>SVC(C=1)</pre><b>In a Jupyter environment, please rerun this cell to show the HTML representation or trust the notebook. <br />On GitHub, the HTML representation is unable to render, please try loading this page with nbviewer.org.</b></div><div class=\"sk-container\" hidden><div class=\"sk-item\"><div class=\"sk-estimator sk-toggleable\"><input class=\"sk-toggleable__control sk-hidden--visually\" id=\"sk-estimator-id-1\" type=\"checkbox\" checked><label for=\"sk-estimator-id-1\" class=\"sk-toggleable__label sk-toggleable__label-arrow\">SVC</label><div class=\"sk-toggleable__content\"><pre>SVC(C=1)</pre></div></div></div></div></div>"
      ],
      "text/plain": [
       "SVC(C=1)"
      ]
     },
     "execution_count": 4,
     "metadata": {},
     "output_type": "execute_result"
    }
   ],
   "source": [
    "X_train, X_test, y_train, y_test = train_test_split(X, y, random_state=0)\n",
    "svc = SVC(kernel='rbf', C=1)\n",
    "svc.fit(X_train, y_train)"
   ]
  },
  {
   "cell_type": "code",
   "execution_count": 5,
   "id": "996a0a52",
   "metadata": {},
   "outputs": [
    {
     "data": {
      "text/plain": [
       "array([0, 1, 1, 0, 1, 1, 0, 1, 1, 1, 2, 1, 0, 2, 2, 1, 0, 0, 1, 0, 1, 0,\n",
       "       2, 2, 2, 1, 1, 1, 2, 2, 0, 0, 1, 0, 0, 0, 2, 1, 1, 2, 0, 0, 1, 1,\n",
       "       1])"
      ]
     },
     "execution_count": 5,
     "metadata": {},
     "output_type": "execute_result"
    }
   ],
   "source": [
    "y_pred = svc.predict(X_test)\n",
    "\n",
    "y_pred"
   ]
  },
  {
   "cell_type": "code",
   "execution_count": 6,
   "id": "f84e9206",
   "metadata": {},
   "outputs": [],
   "source": [
    "confusion = confusion_matrix(y_test, y_pred)"
   ]
  },
  {
   "cell_type": "code",
   "execution_count": 7,
   "id": "b9442b70",
   "metadata": {},
   "outputs": [],
   "source": [
    "classes = ['Class 1', 'Class 2', 'Class 3']"
   ]
  },
  {
   "cell_type": "markdown",
   "id": "aa0d934a",
   "metadata": {},
   "source": [
    "### Confusion Matrix"
   ]
  },
  {
   "cell_type": "code",
   "execution_count": 20,
   "id": "45a3059b",
   "metadata": {},
   "outputs": [
    {
     "data": {
      "image/png": "[encoded data removed]",
      "text/plain": [
       "<Figure size 576x576 with 2 Axes>"
      ]
     },
     "metadata": {
      "needs_background": "light"
     },
     "output_type": "display_data"
    }
   ],
   "source": [
    "con_mat = tf.math.confusion_matrix(labels=y_test, predictions=y_pred).numpy()\n",
    "con_mat_norm = np.around(con_mat.astype('float') / con_mat.sum(axis=1)[:, np.newaxis], decimals=2)\n",
    "\n",
    "con_mat_df = pd.DataFrame(con_mat, index=classes, columns=classes)\n",
    "\n",
    "figure = plt.figure(figsize=(8, 8))\n",
    "sns.heatmap(con_mat_df, annot=True, cmap=plt.cm.Blues)\n",
    "plt.tight_layout()\n",
    "plt.ylabel('True label')\n",
    "plt.xlabel('Predicted label')\n",
    "plt.show()"
   ]
  },
  {
   "cell_type": "markdown",
   "id": "966a1ae2",
   "metadata": {},
   "source": [
    "### Sklearn built-in statistics"
   ]
  },
  {
   "cell_type": "code",
   "execution_count": 18,
   "id": "da8a00e5",
   "metadata": {},
   "outputs": [
    {
     "name": "stdout",
     "output_type": "stream",
     "text": [
      "\n",
      "Accuracy: 0.82\n",
      "\n",
      "Micro Precision: 0.82\n",
      "Micro Recall: 0.82\n",
      "Micro F1-score: 0.82\n",
      "\n",
      "Macro Precision: 0.78\n",
      "Macro Recall: 0.79\n",
      "Macro F1-score: 0.78\n",
      "\n",
      "Weighted Precision: 0.84\n",
      "Weighted Recall: 0.82\n",
      "Weighted F1-score: 0.83\n",
      "\n",
      "Classification Report\n",
      "\n",
      "              precision    recall  f1-score   support\n",
      "\n",
      "     Class 1       1.00      0.94      0.97        16\n",
      "     Class 2       0.85      0.81      0.83        21\n",
      "     Class 3       0.50      0.62      0.56         8\n",
      "\n",
      "    accuracy                           0.82        45\n",
      "   macro avg       0.78      0.79      0.78        45\n",
      "weighted avg       0.84      0.82      0.83        45\n",
      "\n"
     ]
    }
   ],
   "source": [
    "print('\\nAccuracy: {:.2f}\\n'.format(accuracy_score(y_test, y_pred)))\n",
    "\n",
    "print('Micro Precision: {:.2f}'.format(precision_score(y_test, y_pred, average='micro')))\n",
    "print('Micro Recall: {:.2f}'.format(recall_score(y_test, y_pred, average='micro')))\n",
    "print('Micro F1-score: {:.2f}\\n'.format(f1_score(y_test, y_pred, average='micro')))\n",
    "\n",
    "print('Macro Precision: {:.2f}'.format(precision_score(y_test, y_pred, average='macro')))\n",
    "print('Macro Recall: {:.2f}'.format(recall_score(y_test, y_pred, average='macro')))\n",
    "print('Macro F1-score: {:.2f}\\n'.format(f1_score(y_test, y_pred, average='macro')))\n",
    "\n",
    "print('Weighted Precision: {:.2f}'.format(precision_score(y_test, y_pred, average='weighted')))\n",
    "print('Weighted Recall: {:.2f}'.format(recall_score(y_test, y_pred, average='weighted')))\n",
    "print('Weighted F1-score: {:.2f}'.format(f1_score(y_test, y_pred, average='weighted')))\n",
    "\n",
    "print('\\nClassification Report\\n')\n",
    "print(classification_report(y_test, y_pred, target_names=classes))"
   ]
  },
  {
   "cell_type": "markdown",
   "id": "ebd60ae5",
   "metadata": {},
   "source": [
    "### Custom statistics"
   ]
  },
  {
   "cell_type": "code",
   "execution_count": 9,
   "id": "e98acfcc",
   "metadata": {},
   "outputs": [],
   "source": [
    "FP = con_mat_df.sum(axis=0) - np.diag(con_mat_df)\n",
    "FN = con_mat_df.sum(axis=1) - np.diag(con_mat_df)\n",
    "TP = np.diag(con_mat_df)\n",
    "TN = con_mat_df.values.sum() - (FP + FN + TP)"
   ]
  },
  {
   "cell_type": "code",
   "execution_count": 10,
   "id": "bb89ec89",
   "metadata": {},
   "outputs": [
    {
     "data": {
      "text/html": [
       "<div>\n",
       "<style scoped>\n",
       "    .dataframe tbody tr th:only-of-type {\n",
       "        vertical-align: middle;\n",
       "    }\n",
       "\n",
       "    .dataframe tbody tr th {\n",
       "        vertical-align: top;\n",
       "    }\n",
       "\n",
       "    .dataframe thead th {\n",
       "        text-align: right;\n",
       "    }\n",
       "</style>\n",
       "<table border=\"1\" class=\"dataframe\">\n",
       "  <thead>\n",
       "    <tr style=\"text-align: right;\">\n",
       "      <th></th>\n",
       "      <th>Class</th>\n",
       "      <th>False Positives (FP)</th>\n",
       "      <th>False Negatives (FN)</th>\n",
       "      <th>True Positives (TP)</th>\n",
       "      <th>True Negatives (TN)</th>\n",
       "    </tr>\n",
       "  </thead>\n",
       "  <tbody>\n",
       "    <tr>\n",
       "      <th>0</th>\n",
       "      <td>Class 1</td>\n",
       "      <td>0</td>\n",
       "      <td>1</td>\n",
       "      <td>15</td>\n",
       "      <td>29</td>\n",
       "    </tr>\n",
       "    <tr>\n",
       "      <th>1</th>\n",
       "      <td>Class 2</td>\n",
       "      <td>3</td>\n",
       "      <td>4</td>\n",
       "      <td>17</td>\n",
       "      <td>21</td>\n",
       "    </tr>\n",
       "    <tr>\n",
       "      <th>2</th>\n",
       "      <td>Class 3</td>\n",
       "      <td>5</td>\n",
       "      <td>3</td>\n",
       "      <td>5</td>\n",
       "      <td>32</td>\n",
       "    </tr>\n",
       "  </tbody>\n",
       "</table>\n",
       "</div>"
      ],
      "text/plain": [
       "     Class  False Positives (FP)  False Negatives (FN)  True Positives (TP)  \\\n",
       "0  Class 1                     0                     1                   15   \n",
       "1  Class 2                     3                     4                   17   \n",
       "2  Class 3                     5                     3                    5   \n",
       "\n",
       "   True Negatives (TN)  \n",
       "0                   29  \n",
       "1                   21  \n",
       "2                   32  "
      ]
     },
     "execution_count": 10,
     "metadata": {},
     "output_type": "execute_result"
    }
   ],
   "source": [
    "class1_false_pos = FP[0]\n",
    "class2_false_pos = FP[1]\n",
    "class3_false_pos = FP[2]\n",
    "\n",
    "class1_false_neg = FN[0]\n",
    "class2_false_neg = FN[1]\n",
    "class3_false_neg = FN[2]\n",
    "\n",
    "class1_true_pos = TP[0]\n",
    "class2_true_pos = TP[1]\n",
    "class3_true_pos = TP[2]\n",
    "\n",
    "class1_true_neg = TN[0]\n",
    "class2_true_neg = TN[1]\n",
    "class3_true_neg = TN[2]\n",
    " \n",
    "df = pd.DataFrame({\n",
    "    'Class': classes,\n",
    "    'False Positives (FP)': [class1_false_pos, class2_false_pos, class3_false_pos],\n",
    "    'False Negatives (FN)': [class1_false_neg, class2_false_neg, class3_false_neg],\n",
    "    'True Positives (TP)': [class1_true_pos, class2_true_pos, class3_true_pos],\n",
    "    'True Negatives (TN)': [class1_true_neg, class2_true_neg, class3_true_neg]\n",
    "})\n",
    "\n",
    "df"
   ]
  },
  {
   "cell_type": "code",
   "execution_count": 11,
   "id": "6531eb3a",
   "metadata": {},
   "outputs": [
    {
     "data": {
      "text/plain": [
       "(45, 45, 45)"
      ]
     },
     "execution_count": 11,
     "metadata": {},
     "output_type": "execute_result"
    }
   ],
   "source": [
    "class1_n = (class1_false_pos + class1_false_neg + class1_true_pos + class1_true_neg)\n",
    "            \n",
    "class2_n = (class2_false_pos + class2_false_neg + class2_true_pos + class2_true_neg)\n",
    "            \n",
    "class3_n = (class3_false_pos + class3_false_neg + class3_true_pos + class3_true_neg)\n",
    "    \n",
    "\n",
    "class1_n, class2_n, class3_n"
   ]
  },
  {
   "cell_type": "code",
   "execution_count": 12,
   "id": "0f25bca3",
   "metadata": {},
   "outputs": [
    {
     "name": "stdout",
     "output_type": "stream",
     "text": [
      "Sensibility\n",
      "\n",
      "Class 1:  0.94\n",
      "Class 2:  0.81\n",
      "Class 3:  0.62\n"
     ]
    }
   ],
   "source": [
    "# Sensibility -> true_pos / (true_pos + false_neg)\n",
    "\n",
    "class1_sensibility = class1_true_pos / (class1_true_pos + class1_false_neg)\n",
    "class2_sensibility = class2_true_pos / (class2_true_pos + class2_false_neg)\n",
    "class3_sensibility = class3_true_pos / (class3_true_pos + class3_false_neg)\n",
    "\n",
    "print('Sensibility\\n')\n",
    "print('Class 1: ', '{:.2f}'.format(class1_sensibility))\n",
    "print('Class 2: ', '{:.2f}'.format(class2_sensibility))\n",
    "print('Class 3: ', '{:.2f}'.format(class3_sensibility))"
   ]
  },
  {
   "cell_type": "code",
   "execution_count": 13,
   "id": "da015b73",
   "metadata": {},
   "outputs": [
    {
     "name": "stdout",
     "output_type": "stream",
     "text": [
      "Specificity\n",
      "\n",
      "Class 1:  1.00\n",
      "Class 2:  0.88\n",
      "Class 3:  0.86\n"
     ]
    }
   ],
   "source": [
    "# Specificity -> true_neg / (false_pos + true_neg)\n",
    "\n",
    "class1_specificity = class1_true_neg / (class1_false_pos + class1_true_neg)\n",
    "class2_specificity = class2_true_neg / (class2_false_pos + class2_true_neg)\n",
    "class3_specificity = class3_true_neg / (class3_false_pos + class3_true_neg)\n",
    "\n",
    "print('Specificity\\n')\n",
    "print('Class 1: ', '{:.2f}'.format(class1_specificity))\n",
    "print('Class 2: ', '{:.2f}'.format(class2_specificity))\n",
    "print('Class 3: ', '{:.2f}'.format(class3_specificity))"
   ]
  },
  {
   "cell_type": "code",
   "execution_count": 14,
   "id": "fdbd71f6",
   "metadata": {},
   "outputs": [
    {
     "name": "stdout",
     "output_type": "stream",
     "text": [
      "Accuracy\n",
      "\n",
      "Class 1:  0.98\n",
      "Class 2:  0.84\n",
      "Class 3:  0.82\n"
     ]
    }
   ],
   "source": [
    "# Accuracy -> (true_pos + true_neg) / num_of_elements\n",
    "\n",
    "class1_accuracy = (class1_true_pos + class1_true_neg) / class1_n\n",
    "class2_accuracy = (class2_true_pos + class2_true_neg) / class2_n\n",
    "class3_accuracy = (class3_true_pos + class3_true_neg) / class3_n\n",
    "\n",
    "print('Accuracy\\n')\n",
    "print('Class 1: ', '{:.2f}'.format(class1_accuracy))\n",
    "print('Class 2: ', '{:.2f}'.format(class2_accuracy))\n",
    "print('Class 3: ', '{:.2f}'.format(class3_accuracy))"
   ]
  },
  {
   "cell_type": "code",
   "execution_count": 15,
   "id": "a46b44ec",
   "metadata": {},
   "outputs": [
    {
     "name": "stdout",
     "output_type": "stream",
     "text": [
      "Precision\n",
      "\n",
      "Class 1:  1.00\n",
      "Class 2:  0.85\n",
      "Class 3:  0.50\n"
     ]
    }
   ],
   "source": [
    "# Precision -> true_pos / (true_pos + false_pos)\n",
    "\n",
    "class1_precision = class1_true_pos / (class1_true_pos + class1_false_pos)\n",
    "class2_precision = class2_true_pos / (class2_true_pos + class2_false_pos)\n",
    "class3_precision = class3_true_pos / (class3_true_pos + class3_false_pos)\n",
    "\n",
    "print('Precision\\n')\n",
    "print('Class 1: ', '{:.2f}'.format(class1_precision))\n",
    "print('Class 2: ', '{:.2f}'.format(class2_precision))\n",
    "print('Class 3: ', '{:.2f}'.format(class3_precision))"
   ]
  },
  {
   "cell_type": "code",
   "execution_count": 16,
   "id": "33414ee2",
   "metadata": {},
   "outputs": [
    {
     "name": "stdout",
     "output_type": "stream",
     "text": [
      "F-score\n",
      "\n",
      "Class 1:  0.97\n",
      "Class 2:  0.83\n",
      "Class 3:  0.56\n"
     ]
    }
   ],
   "source": [
    "# F-score -> 2 * (precision * sensibility) / (precision + sensibility)\n",
    "\n",
    "class1_f_score = 2 * (class1_precision * class1_sensibility) / (class1_precision + class1_sensibility)\n",
    "class2_f_score = 2 * (class2_precision * class2_sensibility) / (class2_precision + class2_sensibility)\n",
    "class3_f_score = 2 * (class3_precision * class3_sensibility) / (class3_precision + class3_sensibility)\n",
    "\n",
    "print('F-score\\n')\n",
    "print('Class 1: ', '{:.2f}'.format(class1_f_score))\n",
    "print('Class 2: ', '{:.2f}'.format(class2_f_score))\n",
    "print('Class 3: ', '{:.2f}'.format(class3_f_score))"
   ]
  }
 ],
 "metadata": {
  "kernelspec": {
   "display_name": "Python 3 (ipykernel)",
   "language": "python",
   "name": "python3"
  },
  "language_info": {
   "codemirror_mode": {
    "name": "ipython",
    "version": 3
   },
   "file_extension": ".py",
   "mimetype": "text/x-python",
   "name": "python",
   "nbconvert_exporter": "python",
   "pygments_lexer": "ipython3",
   "version": "3.10.5"
  }
 },
 "nbformat": 4,
 "nbformat_minor": 5
}
